{
 "cells": [
  {
   "cell_type": "code",
   "execution_count": 3,
   "id": "f302cd67-ca0f-442c-9f81-9562a8bb9b1c",
   "metadata": {},
   "outputs": [],
   "source": [
    "import sys\n",
    "import os\n",
    "from pathlib import Path\n",
    "\n",
    "sys.path.append(os.path.join(Path.cwd(), \"..\", \"ut_sdk_python\", \"utapi\"))\n",
    "\n",
    "from utra.utra_api_tcp import UtraApiTcp\n",
    "from common import print_msg\n",
    "\n"
   ]
  },
  {
   "cell_type": "code",
   "execution_count": 4,
   "id": "4086a9b4-9ec4-433d-81e2-336a055bf91d",
   "metadata": {},
   "outputs": [
    {
     "data": {
      "text/plain": [
       "'D:\\\\Documents\\\\GitHub\\\\Umbratek\\\\umbratek-code\\\\notebooks\\\\..\\\\ut_sdk_python\\\\utapi'"
      ]
     },
     "execution_count": 4,
     "metadata": {},
     "output_type": "execute_result"
    }
   ],
   "source": [
    "sys.path[-1]"
   ]
  },
  {
   "cell_type": "code",
   "execution_count": 10,
   "id": "95cc0de4-b6d3-454d-a27a-31e0e6e04d33",
   "metadata": {},
   "outputs": [
    {
     "name": "stdout",
     "output_type": "stream",
     "text": [
      "[SockeTcp] recv_proc thread start\n",
      "reset_error   :0\n",
      "set_motion_mode   :0\n",
      "set_motion_enable :0\n",
      "set_motion_status :0\n",
      "moveto_joint_p2p   :0\n",
      "moveto_cartesian_line   :0\n",
      "moveto_cartesian_line   :0\n",
      "moveto_cartesian_line   :0\n"
     ]
    }
   ],
   "source": [
    "# demo04_motion_tool_space_line\n",
    "\n",
    "ubot = UtraApiTcp(\"192.168.1.43\")\n",
    "\n",
    "ret = ubot.reset_err()  # Reset error\n",
    "print(\"reset_error   :%d\" % (ret))\n",
    "ret = ubot.set_motion_mode(0)  # Set the operating mode of the arm, 0: position control mode\n",
    "print(\"set_motion_mode   :%d\" % (ret))\n",
    "ret = ubot.set_motion_enable(8, 1)  # Set the enable state of the arm\n",
    "print(\"set_motion_enable :%d\" % (ret))\n",
    "ret = ubot.set_motion_status(0)  # Set the running status of the arm, 0: Set to ready\n",
    "print(\"set_motion_status :%d\" % (ret))\n",
    "\n",
    "speed = 30 / 57.296\n",
    "acc = 3\n",
    "ret = ubot.moveto_home_p2p(speed, acc, 60)\n",
    "\n",
    "joint1 = [0 / 57.296, -30 / 57.296, 50 / 57.296, -10 / 57.296, 90 / 57.296, 0 / 57.296]\n",
    "ret = ubot.moveto_joint_p2p(joint1, speed, acc, 60)\n",
    "print(\"moveto_joint_p2p   :%d\" % (ret))\n",
    "\n",
    "pos1 = [418, 56, 186, 3.14, 0.0, 1.5]\n",
    "pos2 = [418, -256, 186, 3.14, 0.0, 1.5]\n",
    "pos3 = [418, -256, 486, 3.14, 0.0, 1.5]\n",
    "speed = 120.0\n",
    "acc = 200.0\n",
    "\n",
    "ret = ubot.moveto_cartesian_line(pos1, speed, acc, 5.0)\n",
    "print(\"moveto_cartesian_line   :%d\" % (ret))\n",
    "ret = ubot.moveto_cartesian_line(pos2, speed, acc, 5.0)\n",
    "print(\"moveto_cartesian_line   :%d\" % (ret))\n",
    "ret = ubot.moveto_cartesian_line(pos3, speed, acc, 5.0)\n",
    "print(\"moveto_cartesian_line   :%d\" % (ret))"
   ]
  },
  {
   "cell_type": "code",
   "execution_count": 18,
   "id": "a12530cb-ca37-47ff-abf7-dc736a77534b",
   "metadata": {},
   "outputs": [
    {
     "name": "stdout",
     "output_type": "stream",
     "text": [
      "[SockeTcp] recv_proc thread start\n",
      "reset_error   :0\n",
      "set_motion_mode   :0\n",
      "set_motion_enable :0\n",
      "set_motion_status :0\n",
      "moveto_joint_p2p   :0\n",
      "move_sleep    :0\n",
      "moveto_cartesian_lineb   :0\n",
      "moveto_cartesian_lineb   :0\n",
      "moveto_cartesian_lineb   :0\n",
      "moveto_cartesian_lineb   :0\n"
     ]
    }
   ],
   "source": [
    "# demo05_motion_tool_space_lineb\n",
    "\n",
    "ubot = UtraApiTcp(\"192.168.1.43\")\n",
    "\n",
    "ret = ubot.reset_err()  # Reset error\n",
    "print(\"reset_error   :%d\" % (ret))\n",
    "ret = ubot.set_motion_mode(0)  # Set the operating mode of the arm, 0: position control mode\n",
    "print(\"set_motion_mode   :%d\" % (ret))\n",
    "ret = ubot.set_motion_enable(8, 1)  # Set the enable state of the arm\n",
    "print(\"set_motion_enable :%d\" % (ret))\n",
    "ret = ubot.set_motion_status(0)  # Set the running status of the arm, 0: Set to ready\n",
    "print(\"set_motion_status :%d\" % (ret))\n",
    "\n",
    "speed = 30 / 57.296\n",
    "acc = 3\n",
    "ret = ubot.moveto_home_p2p(speed, acc, 60)\n",
    "\n",
    "joint1 = [0 / 57.296, -30 / 57.296, 50 / 57.296, -10 / 57.296, 90 / 57.296, 0 / 57.296]\n",
    "ret = ubot.moveto_joint_p2p(joint1, speed, acc, 60)\n",
    "print(\"moveto_joint_p2p   :%d\" % (ret))\n",
    "\n",
    "pos1 = [418, 56, 186, 3.14, 0.0, 1.5]\n",
    "pos2 = [418, -256, 186, 3.14, 0.0, 1.5]\n",
    "pos3 = [418, -256, 486, 3.14, 0.0, 1.5]\n",
    "speed = 220.0\n",
    "acc = 200.0\n",
    "\n",
    "ret = ubot.plan_sleep(5)  # This function must be called if the desired speed is continuous\n",
    "print(\"move_sleep    :%d\" % (ret))\n",
    "ret = ubot.moveto_cartesian_lineb(pos1, speed, acc, 5.0, 80)\n",
    "print(\"moveto_cartesian_lineb   :%d\" % (ret))\n",
    "ret = ubot.moveto_cartesian_lineb(pos2, speed, acc, 5.0, 60)\n",
    "print(\"moveto_cartesian_lineb   :%d\" % (ret))\n",
    "ret = ubot.moveto_cartesian_lineb(pos3, speed, acc, 5.0, 30)\n",
    "print(\"moveto_cartesian_lineb   :%d\" % (ret))\n",
    "ret = ubot.moveto_cartesian_lineb(pos1, speed, acc, 5.0, 80)\n",
    "print(\"moveto_cartesian_lineb   :%d\" % (ret))"
   ]
  },
  {
   "cell_type": "code",
   "execution_count": 16,
   "id": "9306bf96-1f0e-4a0c-9829-f67df3f664e1",
   "metadata": {},
   "outputs": [
    {
     "name": "stdout",
     "output_type": "stream",
     "text": [
      "[SockeTcp] recv_proc thread start\n",
      "reset_error   :0\n",
      "set_motion_mode   :0\n",
      "set_motion_enable :0\n",
      "set_motion_status :0\n",
      "moveto_joint_p2p   :0\n",
      "moveto_cartesian_line   :0\n",
      "moveto_cartesian_circle   :0\n",
      "moveto_cartesian_circle   :0\n",
      "moveto_cartesian_circle   :0\n"
     ]
    }
   ],
   "source": [
    "# demo06_motion_tool_space_arc\n",
    "\n",
    "ubot = UtraApiTcp(\"192.168.1.43\")\n",
    "\n",
    "ret = ubot.reset_err()  # Reset error\n",
    "print(\"reset_error   :%d\" % (ret))\n",
    "ret = ubot.set_motion_mode(0)  # Set the operating mode of the arm, 0: position control mode\n",
    "print(\"set_motion_mode   :%d\" % (ret))\n",
    "ret = ubot.set_motion_enable(8, 1)  # Set the enable state of the arm\n",
    "print(\"set_motion_enable :%d\" % (ret))\n",
    "ret = ubot.set_motion_status(0)  # Set the running status of the arm, 0: Set to ready\n",
    "print(\"set_motion_status :%d\" % (ret))\n",
    "\n",
    "speed = 30 / 57.296\n",
    "acc = 3\n",
    "ret = ubot.moveto_home_p2p(speed, acc, 60)\n",
    "\n",
    "joint1 = [0 / 57.296, -30 / 57.296, 50 / 57.296, -10 / 57.296, 90 / 57.296, 0 / 57.296]\n",
    "ret = ubot.moveto_joint_p2p(joint1, speed, acc, 60)\n",
    "print(\"moveto_joint_p2p   :%d\" % (ret))\n",
    "\n",
    "pos1 = [-0.0, -360.0, 800.0, 1.58, 0.0, 0.0]\n",
    "pos2 = [-8.0, -560.0, 600.0, 1.58, 0.0, 0.0]\n",
    "pos3 = [-180.0, -560.0, 600.0, 1.58, 0.0, 0.0]\n",
    "pos1 = [418, 56, 186, 3.14, 0.0, 1.5]\n",
    "pos2 = [418, -256, 186, 3.14, 0.0, 1.5]\n",
    "pos3 = [418, -256, 486, 3.14, 0.0, 1.5]\n",
    "speed = 50.0\n",
    "acc = 100.0\n",
    "\n",
    "ret = ubot.moveto_cartesian_line(pos3, speed, acc, 5.0)\n",
    "print(\"moveto_cartesian_line   :%d\" % (ret))\n",
    "\n",
    "ret = ubot.moveto_cartesian_circle(pos1, pos2, speed, acc, 5, 50)\n",
    "print(\"moveto_cartesian_circle   :%d\" % (ret))\n",
    "ret = ubot.moveto_cartesian_circle(pos2, pos3, speed, acc, 5, 100)\n",
    "print(\"moveto_cartesian_circle   :%d\" % (ret))\n",
    "ret = ubot.moveto_cartesian_circle(pos2, pos1, speed, acc, 5, 125)\n",
    "print(\"moveto_cartesian_circle   :%d\" % (ret))"
   ]
  },
  {
   "cell_type": "code",
   "execution_count": 13,
   "id": "436cbdbd-3c52-4ae4-b8dc-24829833a694",
   "metadata": {},
   "outputs": [
    {
     "name": "stdout",
     "output_type": "stream",
     "text": [
      "[SockeTcp] recv_proc thread start\n",
      "reset_error   :0\n",
      "set_motion_mode   :0\n",
      "set_motion_enable :0\n",
      "set_motion_status :0\n",
      "moveto_joint_p2p   :0\n",
      "moveto_joint_p2p   :0\n",
      "moveto_joint_p2p   :0\n",
      "moveto_joint_p2p   :0\n"
     ]
    }
   ],
   "source": [
    "ubot = UtraApiTcp(\"192.168.1.43\")\n",
    "\n",
    "ret = ubot.reset_err()  # Reset error\n",
    "print(\"reset_error   :%d\" % (ret))\n",
    "ret = ubot.set_motion_mode(0)  # Set the operating mode of the arm, 0: position control mode\n",
    "print(\"set_motion_mode   :%d\" % (ret))\n",
    "ret = ubot.set_motion_enable(8, 1)  # Set the enable state of the arm\n",
    "print(\"set_motion_enable :%d\" % (ret))\n",
    "ret = ubot.set_motion_status(0)  # Set the running status of the arm, 0: Set to ready\n",
    "print(\"set_motion_status :%d\" % (ret))\n",
    "\n",
    "joint = [0, 0, 0, 0, 0, 0]\n",
    "speed = 30 / 57.296\n",
    "acc = 3\n",
    "ret = ubot.moveto_joint_p2p(joint, speed, acc, 60)\n",
    "\n",
    "joint1 = [20 / 57.296, -30 / 57.296, 50 / 57.296, -10 / 57.296, 90 / 57.296, 40 / 57.296]\n",
    "joint2 = [20 / 57.296, -10 / 57.296, 100 / 57.296, 20 / 57.296, 90 / 57.296, -20 / 57.296]\n",
    "joint3 = [-20 / 57.296, -10 / 57.296, 100 / 57.296, 20 / 57.296, 90 / 57.296, -20 / 57.296]\n",
    "speed = 30 / 57.296\n",
    "acc = 3\n",
    "ret = ubot.moveto_joint_p2p(joint3, speed, acc, 60)\n",
    "print(\"moveto_joint_p2p   :%d\" % (ret))\n",
    "ret = ubot.moveto_joint_p2p(joint1, speed, acc, 60)\n",
    "print(\"moveto_joint_p2p   :%d\" % (ret))\n",
    "ret = ubot.moveto_joint_p2p(joint2, speed, acc, 60)\n",
    "print(\"moveto_joint_p2p   :%d\" % (ret))\n",
    "ret = ubot.moveto_joint_p2p(joint3, speed, acc, 60)\n",
    "print(\"moveto_joint_p2p   :%d\" % (ret))"
   ]
  },
  {
   "cell_type": "code",
   "execution_count": 5,
   "id": "aa0e2e5d-86a5-4740-a3fb-b0711cf0b833",
   "metadata": {},
   "outputs": [
    {
     "name": "stderr",
     "output_type": "stream",
     "text": [
      "ERROR:root:[UbotApiTc] Error: SocketTcp\n"
     ]
    },
    {
     "name": "stdout",
     "output_type": "stream",
     "text": [
      "[WinError 10060] A connection attempt failed because the connected party did not properly respond after a period of time, or established connection failed because connected host has failed to respond\n",
      "[SockeTcp] Error: __init__, ip:192.168.1.43, port:502\n"
     ]
    },
    {
     "ename": "AttributeError",
     "evalue": "'UtraApiTcp' object has no attribute 'reg'",
     "output_type": "error",
     "traceback": [
      "\u001b[1;31m---------------------------------------------------------------------------\u001b[0m",
      "\u001b[1;31mAttributeError\u001b[0m                            Traceback (most recent call last)",
      "\u001b[1;32m~\\AppData\\Local\\Temp/ipykernel_29456/107330659.py\u001b[0m in \u001b[0;36m<module>\u001b[1;34m\u001b[0m\n\u001b[0;32m      2\u001b[0m \u001b[0mubot\u001b[0m \u001b[1;33m=\u001b[0m \u001b[0mUtraApiTcp\u001b[0m\u001b[1;33m(\u001b[0m\u001b[1;34m\"192.168.1.43\"\u001b[0m\u001b[1;33m)\u001b[0m\u001b[1;33m\u001b[0m\u001b[1;33m\u001b[0m\u001b[0m\n\u001b[0;32m      3\u001b[0m \u001b[1;33m\u001b[0m\u001b[0m\n\u001b[1;32m----> 4\u001b[1;33m \u001b[0mret\u001b[0m \u001b[1;33m=\u001b[0m \u001b[0mubot\u001b[0m\u001b[1;33m.\u001b[0m\u001b[0mreset_err\u001b[0m\u001b[1;33m(\u001b[0m\u001b[1;33m)\u001b[0m  \u001b[1;31m# Reset error\u001b[0m\u001b[1;33m\u001b[0m\u001b[1;33m\u001b[0m\u001b[0m\n\u001b[0m\u001b[0;32m      5\u001b[0m \u001b[0mprint\u001b[0m\u001b[1;33m(\u001b[0m\u001b[1;34m\"reset_error   :%d\"\u001b[0m \u001b[1;33m%\u001b[0m \u001b[1;33m(\u001b[0m\u001b[0mret\u001b[0m\u001b[1;33m)\u001b[0m\u001b[1;33m)\u001b[0m\u001b[1;33m\u001b[0m\u001b[1;33m\u001b[0m\u001b[0m\n\u001b[0;32m      6\u001b[0m \u001b[0mret\u001b[0m \u001b[1;33m=\u001b[0m \u001b[0mubot\u001b[0m\u001b[1;33m.\u001b[0m\u001b[0mset_motion_mode\u001b[0m\u001b[1;33m(\u001b[0m\u001b[1;36m0\u001b[0m\u001b[1;33m)\u001b[0m  \u001b[1;31m# Set the operating mode of the arm, 0: position control mode\u001b[0m\u001b[1;33m\u001b[0m\u001b[1;33m\u001b[0m\u001b[0m\n",
      "\u001b[1;32mD:\\Documents\\GitHub\\Umbratek\\umbratek-code\\notebooks\\..\\ut_sdk_python\\utapi\\base\\arm_api_base.py\u001b[0m in \u001b[0;36mreset_err\u001b[1;34m(self)\u001b[0m\n\u001b[0;32m    186\u001b[0m             \u001b[0mret\u001b[0m \u001b[1;33m(\u001b[0m\u001b[0mint\u001b[0m\u001b[1;33m)\u001b[0m\u001b[1;33m:\u001b[0m \u001b[0mFunction\u001b[0m \u001b[0mexecution\u001b[0m \u001b[0mresult\u001b[0m \u001b[0mcode\u001b[0m\u001b[1;33m,\u001b[0m \u001b[0mrefer\u001b[0m \u001b[0mto\u001b[0m \u001b[0mappendix\u001b[0m \u001b[1;32mfor\u001b[0m \u001b[0mcode\u001b[0m \u001b[0mmeaning\u001b[0m\u001b[1;33m\u001b[0m\u001b[1;33m\u001b[0m\u001b[0m\n\u001b[0;32m    187\u001b[0m         \"\"\"\n\u001b[1;32m--> 188\u001b[1;33m         \u001b[1;32mreturn\u001b[0m \u001b[0mself\u001b[0m\u001b[1;33m.\u001b[0m\u001b[0m__set_reg_int8\u001b[0m\u001b[1;33m(\u001b[0m\u001b[0mself\u001b[0m\u001b[1;33m.\u001b[0m\u001b[0mreg\u001b[0m\u001b[1;33m.\u001b[0m\u001b[0mRESET_ERR\u001b[0m\u001b[1;33m,\u001b[0m \u001b[0mself\u001b[0m\u001b[1;33m.\u001b[0m\u001b[0mreg\u001b[0m\u001b[1;33m.\u001b[0m\u001b[0mRESET_ERR\u001b[0m\u001b[1;33m[\u001b[0m\u001b[1;36m0\u001b[0m\u001b[1;33m]\u001b[0m\u001b[1;33m,\u001b[0m \u001b[1;36m1\u001b[0m\u001b[1;33m)\u001b[0m\u001b[1;33m\u001b[0m\u001b[1;33m\u001b[0m\u001b[0m\n\u001b[0m\u001b[0;32m    189\u001b[0m \u001b[1;33m\u001b[0m\u001b[0m\n\u001b[0;32m    190\u001b[0m     \u001b[1;32mdef\u001b[0m \u001b[0mreboot_system\u001b[0m\u001b[1;33m(\u001b[0m\u001b[0mself\u001b[0m\u001b[1;33m)\u001b[0m\u001b[1;33m:\u001b[0m\u001b[1;33m\u001b[0m\u001b[1;33m\u001b[0m\u001b[0m\n",
      "\u001b[1;31mAttributeError\u001b[0m: 'UtraApiTcp' object has no attribute 'reg'"
     ]
    }
   ],
   "source": [
    "\"\"\" This is a demo of servo motion in joint space \"\"\"\n",
    "ubot = UtraApiTcp(\"192.168.1.43\")\n",
    "\n",
    "ret = ubot.reset_err()  # Reset error\n",
    "print(\"reset_error   :%d\" % (ret))\n",
    "ret = ubot.set_motion_mode(0)  # Set the operating mode of the arm, 0: position control mode\n",
    "print(\"set_motion_mode   :%d\" % (ret))\n",
    "ret = ubot.set_motion_enable(8, 1)  # Set the enable state of the arm\n",
    "print(\"set_motion_enable :%d\" % (ret))\n",
    "ret = ubot.set_motion_status(0)  # Set the running status of the arm, 0: Set to ready\n",
    "print(\"set_motion_status :%d\" % (ret))\n",
    "\n",
    "speed = 30 / 57.296\n",
    "acc = 3\n",
    "ret = ubot.moveto_home_p2p(speed, acc, 60)\n",
    "\n",
    "joint1 = [20 / 57.296, -30 / 57.296, 50 / 57.296, -10 / 57.296, 90 / 57.296, 40 / 57.296]\n",
    "joint2 = [20 / 57.296, -10 / 57.296, 100 / 57.296, 20 / 57.296, 90 / 57.296, -20 / 57.296]\n",
    "joint3 = [-20 / 57.296, -10 / 57.296, 100 / 57.296, 20 / 57.296, 90 / 57.296, -20 / 57.296]\n",
    "time = [2, 2, 2]\n",
    "joint = [joint1, joint2, joint3]\n",
    "\n",
    "ret = ubot.moveto_servo_joint(3, joint, time)\n",
    "print(\"moveto_servo_joint   :%d\" % (ret))\n"
   ]
  },
  {
   "cell_type": "code",
   "execution_count": null,
   "id": "70b9774f-c467-46d8-99ab-d21b34f1592b",
   "metadata": {},
   "outputs": [],
   "source": []
  }
 ],
 "metadata": {
  "kernelspec": {
   "display_name": "Python 3 (ipykernel)",
   "language": "python",
   "name": "python3"
  },
  "language_info": {
   "codemirror_mode": {
    "name": "ipython",
    "version": 3
   },
   "file_extension": ".py",
   "mimetype": "text/x-python",
   "name": "python",
   "nbconvert_exporter": "python",
   "pygments_lexer": "ipython3",
   "version": "3.8.12"
  }
 },
 "nbformat": 4,
 "nbformat_minor": 5
}
